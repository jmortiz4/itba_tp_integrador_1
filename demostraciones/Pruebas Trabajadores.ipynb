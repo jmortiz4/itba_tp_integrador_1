{
  "cells": [
    {
      "cell_type": "markdown",
      "metadata": {
        "colab_type": "text",
        "id": "view-in-github"
      },
      "source": [
        "<a href=\"https://colab.research.google.com/github/ITBA-Python/Certificacion-Profesional-Python/blob/main/Clase_4.ipynb\" target=\"_parent\"><img src=\"https://colab.research.google.com/assets/colab-badge.svg\" alt=\"Open In Colab\"/></a>"
      ]
    },
    {
      "cell_type": "code",
      "execution_count": 4,
      "metadata": {},
      "outputs": [],
      "source": [
        "%load_ext autoreload\n",
        "%autoreload 2\n",
        "import sys\n",
        "sys.path.append('../') \n",
        "import pandas as pd\n",
        "import Funciones_Auxiliares as faux\n",
        "from clases.Trabajador import Trabajador\n",
        "\n",
        "\n",
        "#df_personas, df_trabajadores, df_usuarios, df_peliculas, df_scores=Faux.load_all()"
      ]
    },
    {
      "cell_type": "code",
      "execution_count": 6,
      "metadata": {},
      "outputs": [
        {
          "name": "stdout",
          "output_type": "stream",
          "text": [
            "     id                    Position Category Working Hours  Start Date  \\\n",
            "10  629      Sales Regional Manager        A        9 - 18  1997-11-12   \n",
            "11  665  Marketing Regional Manager        C          8-17  1997-09-22   \n",
            "12  751                  IT Manager        B       20 - 04  1998-01-15   \n",
            "13  803                          IT        C          8-17  1997-11-13   \n",
            "14  872                          IT        C        9 - 18  1997-11-14   \n",
            "\n",
            "     DateNorm  \n",
            "10 1997-11-12  \n",
            "11 1997-09-22  \n",
            "12 1998-01-15  \n",
            "13 1997-11-13  \n",
            "14 1997-11-14  \n"
          ]
        }
      ],
      "source": [
        "# Acciones con la clase Trabajador\n",
        "\n",
        "# Cargo el df método create_df_from_csv() directamente desde la clase\n",
        "df_trabajadores = Trabajador.create_df_from_csv(\"../data/trabajadores.csv\")\n",
        "print(df_trabajadores.tail())\n"
      ]
    },
    {
      "cell_type": "code",
      "execution_count": 21,
      "metadata": {},
      "outputs": [
        {
          "name": "stdout",
          "output_type": "stream",
          "text": [
            "Rows del df original: 17\n",
            "Rows del df Agregado: 18\n",
            "\n",
            "Error: No se pudo agregar, id ya existente\n",
            "Rows del df original: 17\n",
            "Rows del df Agregado2: 18\n"
          ]
        }
      ],
      "source": [
        "# Busco el DF en el archivo\n",
        "df_trabajadores = Trabajador.create_df_from_csv(\"../data/trabajadores.csv\")\n",
        "\n",
        "#Creo Instancias de Trabajador\n",
        "NuevoTrabajadorConIDExistente = Trabajador(id=820, fechaAlta='2024-05-19', puesto='Nuevo Puesto', categoria='A', horarioTrabajo='8 - 17')\n",
        "NuevoTrabajadorSinID = Trabajador(id=None, fechaAlta='2024-05-19', puesto='Nuevo Puesto 2', categoria='A', horarioTrabajo='8 - 17')\n",
        "\n",
        "#Doy de Alta satisfactoriamente con el metodo write_df\n",
        "df_trabajadoresAgregado = NuevoTrabajadorSinID.write_df(df_trabajadores)\n",
        "print(f'Rows del df original: {df_trabajadores.shape[0]}\\nRows del df Agregado: {df_trabajadoresAgregado.shape[0]}\\n')\n",
        "\n",
        "#Doy de Alta insatisfactoriamente con el metodo write_df ya que el ID existe\n",
        "df_trabajadoresAgregado2 = NuevoTrabajadorConIDExistente.write_df(df_trabajadoresAgregado)\n",
        "print(f'Rows del df original: {df_trabajadores.shape[0]}\\nRows del df Agregado2: {df_trabajadoresAgregado2.shape[0]}')\n",
        "\n"
      ]
    },
    {
      "cell_type": "code",
      "execution_count": 23,
      "metadata": {},
      "outputs": [
        {
          "name": "stdout",
          "output_type": "stream",
          "text": [
            "16 1998-03-3 Analys  9 - 1\n",
            "31 1997-09-2 Analys  9 - 1\n",
            "167 1997-10-2 Analys  7 - 1\n",
            "183 1998-01-2 Analys  20 - 0\n",
            "298 1997-10-1 Analys  9 - 1\n",
            "358 1998-04-1 Analys  7 - 1\n",
            "397 1998-02-0 Analys  7 - 1\n",
            "470 1997-12-2 CT  7 - 1\n",
            "501 1998-01-1 CF  7 - 1\n",
            "598 1997-12-0 CE  8-1\n",
            "629 1997-11-1 Sales Regional Manage  9 - 1\n",
            "665 1997-09-2 Marketing Regional Manage  8-1\n",
            "751 1998-01-1 IT Manage  20 - 0\n",
            "803 1997-11-1 I  8-1\n",
            "872 1997-11-1 I  9 - 1\n",
            "873 2024-05-1 Nuevo Puesto   8 - 1\n",
            "820 2024-05-1 Nuevo Puest  8 - 1\n"
          ]
        }
      ],
      "source": [
        "# Llama al método ConvertirATrabajadores para convertir el DataFrame en una lista de objetos Trabajador\n",
        "lista_trabajadores = Trabajador.convertir_a_trabajadores(df_trabajadores)\n",
        "\n",
        "# Imprime la lista de trabajadores para verificar si se crearon correctamente\n",
        "for trabajador in lista_trabajadores:\n",
        "    print(trabajador.id, trabajador.fechaAlta, trabajador.puesto, trabajador.categoria, trabajador.horarioTrabajo)"
      ]
    },
    {
      "cell_type": "code",
      "execution_count": null,
      "metadata": {},
      "outputs": [],
      "source": [
        "#Vamos a Filtrar segun algunos criterios la df\n",
        "ListaPelisFiltradas1= Pelicula.get_from_df(df_peliculas, nombre = 'space', anios = [1900,2000]) #El filtro de nombre es un contiene para ser mas abarcativo\n",
        "ListaPelisFiltradas2= Pelicula.get_from_df(df_peliculas, generos = ['Comedy','Musical'], anios=[1900,1950])\n",
        "ListaPelisFiltradas3= Pelicula.get_from_df(df_peliculas, id=135)\n",
        "\n",
        "#Vamos a ver los filtros\n",
        "print(f'Filtro1: cantidad {len(ListaPelisFiltradas1)} \\n {ListaPelisFiltradas1}\\n') # Se printean de acuerdo al metodo.__repr__ de la clase\n",
        "print(f'Filtro2: cantidad {len(ListaPelisFiltradas2)}\\n{ListaPelisFiltradas2}\\n')\n",
        "print(f'Filtro3: cantidad {len(ListaPelisFiltradas3)}\\n{ListaPelisFiltradas3}')\n"
      ]
    },
    {
      "cell_type": "code",
      "execution_count": null,
      "metadata": {},
      "outputs": [],
      "source": [
        "#Decidimos borrar de df_peliculas los resultados de ListaFiltrada2\n",
        "print(f'Rows del df original: {df_peliculas.shape[0]}')\n",
        "\n",
        "for x in ListaPelisFiltradas2:\n",
        "    df_peliculas=x.remove_from_df(df_peliculas)\n",
        "\n",
        "print(f'Rows del df luego del borrado: {df_peliculas.shape[0]}')\n",
        "\n"
      ]
    },
    {
      "cell_type": "code",
      "execution_count": null,
      "metadata": {},
      "outputs": [],
      "source": [
        "#Altero algun dato del filtro 3 por ejemplo el año y despues trato de borrarla\n",
        "print(f'Rows del df original: {df_peliculas.shape[0]}')\n",
        "ListaPelisFiltradas3[0].anio=2000\n",
        "df_peliculas=ListaPelisFiltradas3[0].remove_from_df(df_peliculas)\n",
        "print(f'Rows del df luego del intento de borrado: {df_peliculas.shape[0]}')\n",
        "\n",
        "#Lo mismo ocurre si por ejemplo le agregamos un genero \n",
        "ListaPelisFiltradas3= Pelicula.get_from_df(df_peliculas, id=135)\n",
        "ListaPelisFiltradas3[0].generos.append('Romance')\n",
        "df_peliculas=ListaPelisFiltradas3[0].remove_from_df(df_peliculas)\n",
        "print(f'Rows del df luego del intento de borrado: {df_peliculas.shape[0]}')"
      ]
    },
    {
      "cell_type": "code",
      "execution_count": null,
      "metadata": {},
      "outputs": [],
      "source": [
        "### GET STATS\n",
        "print(df_peliculasAgregado.tail())"
      ]
    },
    {
      "cell_type": "code",
      "execution_count": null,
      "metadata": {},
      "outputs": [],
      "source": [
        "Pelicula.get_stats(df_peliculas, generos=['Comedy'])\n"
      ]
    },
    {
      "cell_type": "code",
      "execution_count": null,
      "metadata": {},
      "outputs": [],
      "source": [
        "Pelicula.get_stats(df_peliculas, anios=[1945,2000])"
      ]
    },
    {
      "cell_type": "code",
      "execution_count": null,
      "metadata": {},
      "outputs": [],
      "source": [
        "Pelicula.filtrar_df(df_peliculas,generos=['Comedy']).sort_values(by='DateNorm', ascending=False)"
      ]
    },
    {
      "cell_type": "code",
      "execution_count": null,
      "metadata": {},
      "outputs": [],
      "source": [
        "df_peliculas.sort_values(by='DateNorm', ascending=False)"
      ]
    },
    {
      "cell_type": "code",
      "execution_count": null,
      "metadata": {},
      "outputs": [],
      "source": [
        "df_peliculas[df_peliculas['Name'].str.contains('2000')]"
      ]
    },
    {
      "cell_type": "code",
      "execution_count": null,
      "metadata": {},
      "outputs": [],
      "source": [
        "new_row.keys().tolist()"
      ]
    },
    {
      "cell_type": "code",
      "execution_count": null,
      "metadata": {},
      "outputs": [],
      "source": [
        "\n",
        "ListaPelisFiltradas2= Pelicula.filtrar_df(df_peliculas, generos = ['Comedy','Musical'], anios=[1900,2000])\n",
        "\n",
        "ListaPelisFiltradas2"
      ]
    },
    {
      "cell_type": "code",
      "execution_count": null,
      "metadata": {},
      "outputs": [],
      "source": [
        "df_peliculas"
      ]
    },
    {
      "cell_type": "code",
      "execution_count": null,
      "metadata": {},
      "outputs": [],
      "source": []
    }
  ],
  "metadata": {
    "colab": {
      "authorship_tag": "ABX9TyNDSdi+QGT76xjx89C3I6sE",
      "collapsed_sections": [],
      "include_colab_link": true,
      "name": "Clase 4.ipynb",
      "provenance": []
    },
    "kernelspec": {
      "display_name": "Python 3",
      "name": "python3"
    },
    "language_info": {
      "codemirror_mode": {
        "name": "ipython",
        "version": 3
      },
      "file_extension": ".py",
      "mimetype": "text/x-python",
      "name": "python",
      "nbconvert_exporter": "python",
      "pygments_lexer": "ipython3",
      "version": "3.12.3"
    }
  },
  "nbformat": 4,
  "nbformat_minor": 0
}
