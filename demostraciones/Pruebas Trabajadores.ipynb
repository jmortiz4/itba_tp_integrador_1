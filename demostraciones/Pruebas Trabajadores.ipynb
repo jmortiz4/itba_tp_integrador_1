{
  "cells": [
    {
      "cell_type": "markdown",
      "metadata": {
        "colab_type": "text",
        "id": "view-in-github"
      },
      "source": [
        "<a href=\"https://colab.research.google.com/github/ITBA-Python/Certificacion-Profesional-Python/blob/main/Clase_4.ipynb\" target=\"_parent\"><img src=\"https://colab.research.google.com/assets/colab-badge.svg\" alt=\"Open In Colab\"/></a>"
      ]
    },
    {
      "cell_type": "code",
      "execution_count": 49,
      "metadata": {},
      "outputs": [
        {
          "name": "stdout",
          "output_type": "stream",
          "text": [
            "The autoreload extension is already loaded. To reload it, use:\n",
            "  %reload_ext autoreload\n"
          ]
        }
      ],
      "source": [
        "%load_ext autoreload\n",
        "%autoreload 2\n",
        "import sys\n",
        "sys.path.append('../') \n",
        "import pandas as pd\n",
        "import Helper as faux\n",
        "from clases.Trabajador import Trabajador\n",
        "from clases.Persona import Persona\n",
        "\n"
      ]
    },
    {
      "cell_type": "code",
      "execution_count": 20,
      "metadata": {},
      "outputs": [
        {
          "name": "stdout",
          "output_type": "stream",
          "text": [
            "     id        Position Category Working_Hours  Start_Date\n",
            "14  872              IT        C        9 - 18  1997-11-14\n",
            "15  873  Nuevo Puesto 2        A        8 - 17  2024-05-19\n",
            "16  820    Nuevo Puesto        A        8 - 17  2024-05-19\n",
            "17  874  Nuevo Puesto 2        A        8 - 17  2024-05-19\n",
            "18  946  Nuevo Puesto 2        A        8 - 17  2024-05-19\n"
          ]
        }
      ],
      "source": [
        "# Acciones con la clase Trabajador\n",
        "\n",
        "# Cargo el df método create_df_from_csv() directamente desde la clase\n",
        "df_trabajadores = Trabajador.create_df_from_csv(\"../data/trabajadores.csv\")\n",
        "print(df_trabajadores.tail())\n"
      ]
    },
    {
      "cell_type": "code",
      "execution_count": 21,
      "metadata": {},
      "outputs": [
        {
          "name": "stdout",
          "output_type": "stream",
          "text": [
            "\n",
            " \n",
            " [16] Matthew Brentley (1977) -Masculino- CP:10309  - 16 - 1998-03-30 - Analyst - B - 9 - 18\n",
            "\n",
            " \n",
            " [31] Maurice Yundt (1974) -Masculino- CP:10003  - 31 - 1997-09-25 - Analyst - A - 9 - 18\n",
            "\n",
            " \n",
            " [167] Randall Brown (1961) -Masculino- CP:L9G2B  - 167 - 1997-10-24 - Analyst - B - 7 - 16\n",
            "\n",
            " \n",
            " [183] Robert Long (1965) -Masculino- CP:27708  - 183 - 1998-01-26 - Analyst - C - 20 - 04\n",
            "\n",
            " \n",
            " [298] Joseph Hill (1954) -Masculino- CP:01581  - 298 - 1997-10-18 - Analyst - C - 9 - 18\n",
            "\n",
            " \n",
            " [358] Brian Hunter (1958) -Masculino- CP:10022  - 358 - 1998-04-17 - Analyst - A - 7 - 16\n",
            "\n",
            " \n",
            " [397] Raymond Witt (1981) -Masculino- CP:27514  - 397 - 1998-02-08 - Analyst - B - 7 - 16\n",
            "\n",
            " \n",
            " [470] Roger Lacour (1974) -Masculino- CP:10021  - 470 - 1997-12-23 - CTO - A - 7 - 16\n",
            "\n",
            " \n",
            " [501] William Johnson (1976) -Masculino- CP:10025  - 501 - 1998-01-17 - CFO - C - 7 - 16\n",
            "\n",
            " \n",
            " [598] Esther Mcgregor (1958) -Femenino- CP:43085  - 598 - 1997-12-06 - CEO - A - 8-17\n",
            "\n",
            " \n",
            " [629] Annie Maddox (1952) -Femenino- CP:44224  - 629 - 1997-11-12 - Sales Regional Manager - A - 9 - 18\n",
            "\n",
            " \n",
            " [665] Mario Handly (1973) -Masculino- CP:55412  - 665 - 1997-09-22 - Marketing Regional Manager - C - 8-17\n",
            "\n",
            " \n",
            " [751] Norma Penix (1974) -Femenino- CP:90034  - 751 - 1998-01-15 - IT Manager - B - 20 - 04\n",
            "\n",
            " \n",
            " [803] Matthew Laster (1928) -Masculino- CP:78212  - 803 - 1997-11-13 - IT - C - 8-17\n",
            "\n",
            " \n",
            " [872] Alissa Borgen (1979) -Femenino- CP:74078  - 872 - 1997-11-14 - IT - C - 9 - 18\n",
            "\n",
            " \n",
            " [873] Doris Schmidt (1950) -Femenino- CP:33763  - 873 - 2024-05-19 - Nuevo Puesto 2 - A - 8 - 17\n",
            "\n",
            " \n",
            " [820] Roger Barut (1976) -Masculino- CP:37725  - 820 - 2024-05-19 - Nuevo Puesto - A - 8 - 17\n",
            "\n",
            " \n",
            " [874] Patrick Fowler (1962) -Masculino- CP:37076  - 874 - 2024-05-19 - Nuevo Puesto 2 - A - 8 - 17\n",
            "\n",
            " \n",
            " [946] Juan Perez (1990) -Masculino- CP:E2E3R  - 946 - 2024-05-19 - Nuevo Puesto 2 - A - 8 - 17\n"
          ]
        }
      ],
      "source": [
        "# Llama al método ConvertirATrabajadores para convertir el DataFrame en una lista de objetos Trabajador\n",
        "lista_trabajadores = Trabajador.convertir_a_trabajadores(df_trabajadores)\n",
        "\n",
        "# Imprime la lista de trabajadores para verificar si se crearon correctamente\n",
        "for trabajador in lista_trabajadores:\n",
        "    print(trabajador.__repr__())"
      ]
    },
    {
      "cell_type": "code",
      "execution_count": 31,
      "metadata": {},
      "outputs": [
        {
          "name": "stdout",
          "output_type": "stream",
          "text": [
            "Rows del df original df trabajadores: 17\n",
            "\n",
            "Rows del df original df personas: 943\n",
            "\n",
            "Rows del df final df trabajadores: 18\n",
            "\n",
            "Rows del df final df personas: 944\n",
            "\n",
            "Error: No se pudo agregar, id ya existente en archivo de trabajadores\n",
            "Rows del df original df trabajadores: 18\n",
            "\n",
            "Rows del df original df personas: 944\n",
            "\n",
            "Rows del df final df trabajadores: 18\n",
            "\n",
            "Rows del df final df personas: 944\n",
            "\n"
          ]
        }
      ],
      "source": [
        "df_personas = Persona.create_df_from_csv(\"../data/personas.csv\")\n",
        "df_trabajadores = Trabajador.create_df_from_csv(\"../data/trabajadores.csv\")\n",
        "\n",
        "nuevoTrabajadorSinID = Trabajador(id=None, fechaAlta='2024-05-19', puesto='Programador', categoria='A', horarioTrabajo='8 - 17',\n",
        "                                  fecha_nac=1990, genero='M', cod_postal='E2E3R', fullname='Juan Perez')\n",
        "\n",
        "\n",
        "#Doy de Alta satisfactoriamente con el metodo write_df\n",
        "df_personasAgregado,df_trabajadoresAgregado = nuevoTrabajadorSinID.write_df(df_personas,df_trabajadores)\n",
        "print(f'Rows del df original df trabajadores: {df_trabajadores.shape[0]}\\n')\n",
        "print(f'Rows del df original df personas: {df_personas.shape[0]}\\n')\n",
        "print(f'Rows del df final df trabajadores: {df_trabajadoresAgregado.shape[0]}\\n')\n",
        "print(f'Rows del df final df personas: {df_personasAgregado.shape[0]}\\n')\n",
        "\n",
        "\n",
        "#No doy de Alta satisfactoriamente con el metodo write_df ya que el Id esta repetido\n",
        "nuevoTrabajadorConIDRepetido = Trabajador(id=945, fechaAlta='2024-05-19', puesto='Programador', categoria='A', horarioTrabajo='8 - 17',\n",
        "                                  fecha_nac=1990, genero='M', cod_postal='E2E3R', fullname='Juan Perez')\n",
        "df_personasAgregado2,df_trabajadoresAgregado2 = nuevoTrabajadorConIDRepetido.write_df(df_personasAgregado,df_trabajadoresAgregado)\n",
        "print(f'Rows del df original df trabajadores: {df_trabajadoresAgregado.shape[0]}\\n')\n",
        "print(f'Rows del df original df personas: {df_personasAgregado.shape[0]}\\n')\n",
        "print(f'Rows del df final df trabajadores: {df_trabajadoresAgregado2.shape[0]}\\n')\n",
        "print(f'Rows del df final df personas: {df_personasAgregado2.shape[0]}\\n')\n",
        "\n",
        "\n"
      ]
    },
    {
      "cell_type": "markdown",
      "metadata": {},
      "source": []
    },
    {
      "cell_type": "code",
      "execution_count": 28,
      "metadata": {},
      "outputs": [
        {
          "name": "stdout",
          "output_type": "stream",
          "text": [
            "Filtro1: cantidad 7 \n",
            " [\n",
            " \n",
            " [16] Matthew Brentley (1977) -Masculino- CP:10309  - 16 - 1998-03-30 - Analyst - B - 9 - 18, \n",
            " \n",
            " [31] Maurice Yundt (1974) -Masculino- CP:10003  - 31 - 1997-09-25 - Analyst - A - 9 - 18, \n",
            " \n",
            " [167] Randall Brown (1961) -Masculino- CP:L9G2B  - 167 - 1997-10-24 - Analyst - B - 7 - 16, \n",
            " \n",
            " [183] Robert Long (1965) -Masculino- CP:27708  - 183 - 1998-01-26 - Analyst - C - 20 - 04, \n",
            " \n",
            " [298] Joseph Hill (1954) -Masculino- CP:01581  - 298 - 1997-10-18 - Analyst - C - 9 - 18, \n",
            " \n",
            " [358] Brian Hunter (1958) -Masculino- CP:10022  - 358 - 1998-04-17 - Analyst - A - 7 - 16, \n",
            " \n",
            " [397] Raymond Witt (1981) -Masculino- CP:27514  - 397 - 1998-02-08 - Analyst - B - 7 - 16]\n",
            "\n",
            "Filtro2: cantidad 5\n",
            "[\n",
            " \n",
            " [16] Matthew Brentley (1977) -Masculino- CP:10309  - 16 - 1998-03-30 - Analyst - B - 9 - 18, \n",
            " \n",
            " [31] Maurice Yundt (1974) -Masculino- CP:10003  - 31 - 1997-09-25 - Analyst - A - 9 - 18, \n",
            " \n",
            " [298] Joseph Hill (1954) -Masculino- CP:01581  - 298 - 1997-10-18 - Analyst - C - 9 - 18, \n",
            " \n",
            " [629] Annie Maddox (1952) -Femenino- CP:44224  - 629 - 1997-11-12 - Sales Regional Manager - A - 9 - 18, \n",
            " \n",
            " [872] Alissa Borgen (1979) -Femenino- CP:74078  - 872 - 1997-11-14 - IT - C - 9 - 18]\n",
            "\n",
            "Filtro3: cantidad 1\n",
            "[\n",
            " \n",
            " [943] Juan Perez (1990) -Masculino- CP:E2E3R  - 943 - 2024-05-19 - Nuevo Puesto 2 - A - 8 - 17]\n"
          ]
        }
      ],
      "source": [
        "df_trabajadores = Trabajador.create_df_from_csv(\"../data/trabajadores.csv\")\n",
        "\n",
        "#Vamos a Filtrar segun algunos criterios la df\n",
        "ListaTrabFiltradas1= Trabajador.get_from_df(df_trabajadores, puesto = 'Analyst') \n",
        "ListaTrabFiltradas2= Trabajador.get_from_df(df_trabajadores, horarioTrabajo = '9 - 18')\n",
        "ListaTrabFiltradas3= Trabajador.get_from_df(df_trabajadores, id=943)\n",
        "\n",
        "#Vamos a ver los filtros\n",
        "print(f'Filtro1: cantidad {len(ListaTrabFiltradas1)} \\n {ListaTrabFiltradas1}\\n')\n",
        "print(f'Filtro2: cantidad {len(ListaTrabFiltradas2)}\\n{ListaTrabFiltradas2}\\n')\n",
        "print(f'Filtro3: cantidad {len(ListaTrabFiltradas3)}\\n{ListaTrabFiltradas3}')\n"
      ]
    },
    {
      "cell_type": "code",
      "execution_count": 29,
      "metadata": {},
      "outputs": [
        {
          "name": "stdout",
          "output_type": "stream",
          "text": [
            "Filtro3: cantidad 1\n",
            "[\n",
            " \n",
            " [943] Juan Perez (1990) -Masculino- CP:E2E3R  - 943 - 2024-05-19 - Nuevo Puesto 2 - A - 8 - 17]\n",
            "Rows del df original: 17\n",
            "Rows del df luego del borrado: 16\n"
          ]
        }
      ],
      "source": [
        "ListaTrabFiltradas3= Trabajador.get_from_df(df_trabajadores, id=943)\n",
        "print(f'Filtro3: cantidad {len(ListaTrabFiltradas3)}\\n{ListaTrabFiltradas3}')\n",
        "\n",
        "#Decidimos borrar de df_trabajadores los resultados de ListaTrabFiltradas3\n",
        "print(f'Rows del df original: {df_trabajadores.shape[0]}')\n",
        "\n",
        "for x in ListaTrabFiltradas3:\n",
        "    df_trabajadores=x.remove_from_df(df_trabajadores)\n",
        "\n",
        "print(f'Rows del df luego del borrado: {df_trabajadores.shape[0]}')\n",
        "\n"
      ]
    },
    {
      "cell_type": "code",
      "execution_count": 50,
      "metadata": {},
      "outputs": [
        {
          "name": "stdout",
          "output_type": "stream",
          "text": [
            "El Total de Trabajadores es:  4\n"
          ]
        },
        {
          "data": {
            "image/png": "[encoded data removed]",
            "text/plain": [
              "<Figure size 1200x800 with 1 Axes>"
            ]
          },
          "metadata": {},
          "output_type": "display_data"
        }
      ],
      "source": [
        "### GET STATS\n",
        "df_personas = Persona.create_df_from_csv(\"../data/personas.csv\")\n",
        "df_trabajadores = Trabajador.create_df_from_csv(\"../data/trabajadores.csv\")\n",
        "puestos=['Programador','IT']\n",
        "\n",
        "Trabajador.get_stats(df_trabajadores,df_personas, puestosList=puestos, aniosDeInteres=[1950,1990])\n",
        "\n"
      ]
    }
  ],
  "metadata": {
    "colab": {
      "authorship_tag": "ABX9TyNDSdi+QGT76xjx89C3I6sE",
      "collapsed_sections": [],
      "include_colab_link": true,
      "name": "Clase 4.ipynb",
      "provenance": []
    },
    "kernelspec": {
      "display_name": "Python 3",
      "name": "python3"
    },
    "language_info": {
      "codemirror_mode": {
        "name": "ipython",
        "version": 3
      },
      "file_extension": ".py",
      "mimetype": "text/x-python",
      "name": "python",
      "nbconvert_exporter": "python",
      "pygments_lexer": "ipython3",
      "version": "3.12.3"
    }
  },
  "nbformat": 4,
  "nbformat_minor": 0
}
