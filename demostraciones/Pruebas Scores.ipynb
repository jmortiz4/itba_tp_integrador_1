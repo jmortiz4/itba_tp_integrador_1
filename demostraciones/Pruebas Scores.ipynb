{
  "cells": [
    {
      "cell_type": "markdown",
      "metadata": {
        "colab_type": "text",
        "id": "view-in-github"
      },
      "source": [
        "<a href=\"https://colab.research.google.com/github/ITBA-Python/Certificacion-Profesional-Python/blob/main/Clase_4.ipynb\" target=\"_parent\"><img src=\"https://colab.research.google.com/assets/colab-badge.svg\" alt=\"Open In Colab\"/></a>"
      ]
    },
    {
      "cell_type": "code",
      "execution_count": 30,
      "metadata": {
        "id": "Qmlt3JYZZ1Qb"
      },
      "outputs": [
        {
          "name": "stdout",
          "output_type": "stream",
          "text": [
            "The autoreload extension is already loaded. To reload it, use:\n",
            "  %reload_ext autoreload\n"
          ]
        }
      ],
      "source": [
        "%load_ext autoreload\n",
        "%autoreload 2\n",
        "import sys\n",
        "sys.path.append('../') \n",
        "import Helper as faux\n",
        "import pandas as pd\n",
        "from datetime import datetime\n",
        "from clases.Scores import Score\n",
        "\n",
        "#df_personas, df_trabajadores, df_usuarios, df_peliculas, df_scores=Faux.load_all()"
      ]
    },
    {
      "cell_type": "code",
      "execution_count": 31,
      "metadata": {},
      "outputs": [
        {
          "data": {
            "text/html": [
              "<div>\n",
              "<style scoped>\n",
              "    .dataframe tbody tr th:only-of-type {\n",
              "        vertical-align: middle;\n",
              "    }\n",
              "\n",
              "    .dataframe tbody tr th {\n",
              "        vertical-align: top;\n",
              "    }\n",
              "\n",
              "    .dataframe thead th {\n",
              "        text-align: right;\n",
              "    }\n",
              "</style>\n",
              "<table border=\"1\" class=\"dataframe\">\n",
              "  <thead>\n",
              "    <tr style=\"text-align: right;\">\n",
              "      <th></th>\n",
              "      <th>user_id</th>\n",
              "      <th>movie_id</th>\n",
              "      <th>rating</th>\n",
              "      <th>Date</th>\n",
              "    </tr>\n",
              "  </thead>\n",
              "  <tbody>\n",
              "    <tr>\n",
              "      <th>0</th>\n",
              "      <td>196</td>\n",
              "      <td>242</td>\n",
              "      <td>3</td>\n",
              "      <td>1997-12-04 15:55:49</td>\n",
              "    </tr>\n",
              "    <tr>\n",
              "      <th>1</th>\n",
              "      <td>186</td>\n",
              "      <td>302</td>\n",
              "      <td>3</td>\n",
              "      <td>1998-04-04 19:22:22</td>\n",
              "    </tr>\n",
              "    <tr>\n",
              "      <th>2</th>\n",
              "      <td>22</td>\n",
              "      <td>377</td>\n",
              "      <td>1</td>\n",
              "      <td>1997-11-07 07:18:36</td>\n",
              "    </tr>\n",
              "    <tr>\n",
              "      <th>3</th>\n",
              "      <td>244</td>\n",
              "      <td>51</td>\n",
              "      <td>2</td>\n",
              "      <td>1997-11-27 05:02:03</td>\n",
              "    </tr>\n",
              "    <tr>\n",
              "      <th>4</th>\n",
              "      <td>166</td>\n",
              "      <td>346</td>\n",
              "      <td>1</td>\n",
              "      <td>1998-02-02 05:33:16</td>\n",
              "    </tr>\n",
              "  </tbody>\n",
              "</table>\n",
              "</div>"
            ],
            "text/plain": [
              "   user_id  movie_id  rating                Date\n",
              "0      196       242       3 1997-12-04 15:55:49\n",
              "1      186       302       3 1998-04-04 19:22:22\n",
              "2       22       377       1 1997-11-07 07:18:36\n",
              "3      244        51       2 1997-11-27 05:02:03\n",
              "4      166       346       1 1998-02-02 05:33:16"
            ]
          },
          "execution_count": 31,
          "metadata": {},
          "output_type": "execute_result"
        }
      ],
      "source": [
        "df = Score.create_df_from_csv('../data/scores.csv')\n",
        "df.head()\n"
      ]
    },
    {
      "cell_type": "code",
      "execution_count": 32,
      "metadata": {},
      "outputs": [
        {
          "name": "stdout",
          "output_type": "stream",
          "text": [
            "Rows del df original: 100000\n",
            "Rows del df Agregado: 100001\n",
            "\n"
          ]
        }
      ],
      "source": [
        "#Doy de Alta satisfactoriamente con el metodo write_df en Scores\n",
        "NuevoScore = Score(idPelicula=22200,idUsuario=250,puntuacion=9,timestamp=datetime.now().strftime(\"%d/%m/%Y %H:%M:%S\"))\n",
        "df_scoresAgregado = NuevoScore.write_df(df)\n",
        "print(f'Rows del df original: {df.shape[0]}\\nRows del df Agregado: {df_scoresAgregado.shape[0]}\\n')\n"
      ]
    },
    {
      "cell_type": "code",
      "execution_count": 33,
      "metadata": {},
      "outputs": [
        {
          "name": "stdout",
          "output_type": "stream",
          "text": [
            "Se actualizará la calificacion ya exstente para esa pelicula y de este usuario\n",
            "Rows del df original: 100000\n",
            "Rows del df Agregado: 100000\n",
            "\n",
            "Calificacion del Registro original:\n",
            "       user_id  movie_id  rating                Date\n",
            "5047      250       200       5 1997-12-27 22:56:14\n",
            "\n",
            "Calificacion del Registro updateado:\n",
            "      user_id  movie_id  rating                 Date\n",
            "5047      250       200       8  23/05/2024 15:29:32\n",
            "\n"
          ]
        }
      ],
      "source": [
        "\n",
        "#Doy de Alta un registro ya existente y lo actualizó con el metodo write_df en Scores\n",
        "ScoreExistente = Score(idPelicula=200,idUsuario=250,puntuacion=8,timestamp=datetime.now().strftime(\"%d/%m/%Y %H:%M:%S\"))\n",
        "df_scoresAgregado2 = ScoreExistente.write_df(df)\n",
        "print(f'Rows del df original: {df.shape[0]}\\nRows del df Agregado: {df_scoresAgregado2.shape[0]}\\n')\n",
        "\n",
        "filtered_df = df[(df['user_id'] == ScoreExistente.idUsuario) & (df['movie_id'] == ScoreExistente.idPelicula)]\n",
        "filtered_df_scoresAgregado = df_scoresAgregado2[(df_scoresAgregado2['user_id'] == ScoreExistente.idUsuario) & (df_scoresAgregado2['movie_id'] == ScoreExistente.idPelicula)]\n",
        "print(f'Calificacion del Registro original:\\n {filtered_df.head()}\\n\\nCalificacion del Registro updateado:\\n{filtered_df_scoresAgregado.head()}\\n')\n",
        "\n"
      ]
    },
    {
      "cell_type": "code",
      "execution_count": 34,
      "metadata": {},
      "outputs": [
        {
          "name": "stdout",
          "output_type": "stream",
          "text": [
            "Rows del df original: 100000\n",
            "Rows del df Agregado: 99999\n",
            "\n"
          ]
        }
      ],
      "source": [
        "#Vamos a Borrar del df original la pelicula con el score existente.\n",
        "df_scoresEliminado = ScoreExistente.remove_from_df(df)\n",
        "print(f'Rows del df original: {df.shape[0]}\\nRows del df Agregado: {df_scoresEliminado.shape[0]}\\n')\n"
      ]
    },
    {
      "cell_type": "code",
      "execution_count": 35,
      "metadata": {},
      "outputs": [
        {
          "data": {
            "text/html": [
              "<div>\n",
              "<style scoped>\n",
              "    .dataframe tbody tr th:only-of-type {\n",
              "        vertical-align: middle;\n",
              "    }\n",
              "\n",
              "    .dataframe tbody tr th {\n",
              "        vertical-align: top;\n",
              "    }\n",
              "\n",
              "    .dataframe thead th {\n",
              "        text-align: right;\n",
              "    }\n",
              "</style>\n",
              "<table border=\"1\" class=\"dataframe\">\n",
              "  <thead>\n",
              "    <tr style=\"text-align: right;\">\n",
              "      <th></th>\n",
              "      <th>movie_id</th>\n",
              "      <th>rating</th>\n",
              "    </tr>\n",
              "  </thead>\n",
              "  <tbody>\n",
              "    <tr>\n",
              "      <th>0</th>\n",
              "      <td>1</td>\n",
              "      <td>3.878319</td>\n",
              "    </tr>\n",
              "    <tr>\n",
              "      <th>1</th>\n",
              "      <td>2</td>\n",
              "      <td>3.206107</td>\n",
              "    </tr>\n",
              "    <tr>\n",
              "      <th>2</th>\n",
              "      <td>3</td>\n",
              "      <td>3.033333</td>\n",
              "    </tr>\n",
              "    <tr>\n",
              "      <th>3</th>\n",
              "      <td>4</td>\n",
              "      <td>3.550239</td>\n",
              "    </tr>\n",
              "    <tr>\n",
              "      <th>4</th>\n",
              "      <td>5</td>\n",
              "      <td>3.302326</td>\n",
              "    </tr>\n",
              "    <tr>\n",
              "      <th>...</th>\n",
              "      <td>...</td>\n",
              "      <td>...</td>\n",
              "    </tr>\n",
              "    <tr>\n",
              "      <th>1677</th>\n",
              "      <td>1678</td>\n",
              "      <td>1.000000</td>\n",
              "    </tr>\n",
              "    <tr>\n",
              "      <th>1678</th>\n",
              "      <td>1679</td>\n",
              "      <td>3.000000</td>\n",
              "    </tr>\n",
              "    <tr>\n",
              "      <th>1679</th>\n",
              "      <td>1680</td>\n",
              "      <td>2.000000</td>\n",
              "    </tr>\n",
              "    <tr>\n",
              "      <th>1680</th>\n",
              "      <td>1681</td>\n",
              "      <td>3.000000</td>\n",
              "    </tr>\n",
              "    <tr>\n",
              "      <th>1681</th>\n",
              "      <td>1682</td>\n",
              "      <td>3.000000</td>\n",
              "    </tr>\n",
              "  </tbody>\n",
              "</table>\n",
              "<p>1682 rows × 2 columns</p>\n",
              "</div>"
            ],
            "text/plain": [
              "      movie_id    rating\n",
              "0            1  3.878319\n",
              "1            2  3.206107\n",
              "2            3  3.033333\n",
              "3            4  3.550239\n",
              "4            5  3.302326\n",
              "...        ...       ...\n",
              "1677      1678  1.000000\n",
              "1678      1679  3.000000\n",
              "1679      1680  2.000000\n",
              "1680      1681  3.000000\n",
              "1681      1682  3.000000\n",
              "\n",
              "[1682 rows x 2 columns]"
            ]
          },
          "execution_count": 35,
          "metadata": {},
          "output_type": "execute_result"
        }
      ],
      "source": [
        "a= Score.obtener_rating_promedio_variable(df,'movie_id')\n",
        "a"
      ]
    },
    {
      "cell_type": "code",
      "execution_count": 60,
      "metadata": {},
      "outputs": [
        {
          "name": "stdout",
          "output_type": "stream",
          "text": [
            "Date >= \"1970-01-01\" and Date <= \"1990-12-31\"\n"
          ]
        },
        {
          "data": {
            "text/html": [
              "<div>\n",
              "<style scoped>\n",
              "    .dataframe tbody tr th:only-of-type {\n",
              "        vertical-align: middle;\n",
              "    }\n",
              "\n",
              "    .dataframe tbody tr th {\n",
              "        vertical-align: top;\n",
              "    }\n",
              "\n",
              "    .dataframe thead th {\n",
              "        text-align: right;\n",
              "    }\n",
              "</style>\n",
              "<table border=\"1\" class=\"dataframe\">\n",
              "  <thead>\n",
              "    <tr style=\"text-align: right;\">\n",
              "      <th></th>\n",
              "      <th>user_id</th>\n",
              "      <th>movie_id</th>\n",
              "      <th>rating</th>\n",
              "      <th>Date</th>\n",
              "    </tr>\n",
              "  </thead>\n",
              "  <tbody>\n",
              "    <tr>\n",
              "      <th>0</th>\n",
              "      <td>196</td>\n",
              "      <td>242</td>\n",
              "      <td>3</td>\n",
              "      <td>1997-12-04 15:55:49</td>\n",
              "    </tr>\n",
              "    <tr>\n",
              "      <th>1</th>\n",
              "      <td>186</td>\n",
              "      <td>302</td>\n",
              "      <td>3</td>\n",
              "      <td>1998-04-04 19:22:22</td>\n",
              "    </tr>\n",
              "    <tr>\n",
              "      <th>2</th>\n",
              "      <td>22</td>\n",
              "      <td>377</td>\n",
              "      <td>1</td>\n",
              "      <td>1997-11-07 07:18:36</td>\n",
              "    </tr>\n",
              "    <tr>\n",
              "      <th>3</th>\n",
              "      <td>244</td>\n",
              "      <td>51</td>\n",
              "      <td>2</td>\n",
              "      <td>1997-11-27 05:02:03</td>\n",
              "    </tr>\n",
              "    <tr>\n",
              "      <th>4</th>\n",
              "      <td>166</td>\n",
              "      <td>346</td>\n",
              "      <td>1</td>\n",
              "      <td>1998-02-02 05:33:16</td>\n",
              "    </tr>\n",
              "    <tr>\n",
              "      <th>...</th>\n",
              "      <td>...</td>\n",
              "      <td>...</td>\n",
              "      <td>...</td>\n",
              "      <td>...</td>\n",
              "    </tr>\n",
              "    <tr>\n",
              "      <th>99995</th>\n",
              "      <td>880</td>\n",
              "      <td>476</td>\n",
              "      <td>3</td>\n",
              "      <td>1997-11-22 05:10:44</td>\n",
              "    </tr>\n",
              "    <tr>\n",
              "      <th>99996</th>\n",
              "      <td>716</td>\n",
              "      <td>204</td>\n",
              "      <td>5</td>\n",
              "      <td>1997-11-17 19:39:03</td>\n",
              "    </tr>\n",
              "    <tr>\n",
              "      <th>99997</th>\n",
              "      <td>276</td>\n",
              "      <td>1090</td>\n",
              "      <td>1</td>\n",
              "      <td>1997-09-20 22:49:55</td>\n",
              "    </tr>\n",
              "    <tr>\n",
              "      <th>99998</th>\n",
              "      <td>13</td>\n",
              "      <td>225</td>\n",
              "      <td>2</td>\n",
              "      <td>1997-12-17 22:52:36</td>\n",
              "    </tr>\n",
              "    <tr>\n",
              "      <th>99999</th>\n",
              "      <td>12</td>\n",
              "      <td>203</td>\n",
              "      <td>3</td>\n",
              "      <td>1997-11-19 17:13:03</td>\n",
              "    </tr>\n",
              "  </tbody>\n",
              "</table>\n",
              "<p>100000 rows × 4 columns</p>\n",
              "</div>"
            ],
            "text/plain": [
              "       user_id  movie_id  rating                Date\n",
              "0          196       242       3 1997-12-04 15:55:49\n",
              "1          186       302       3 1998-04-04 19:22:22\n",
              "2           22       377       1 1997-11-07 07:18:36\n",
              "3          244        51       2 1997-11-27 05:02:03\n",
              "4          166       346       1 1998-02-02 05:33:16\n",
              "...        ...       ...     ...                 ...\n",
              "99995      880       476       3 1997-11-22 05:10:44\n",
              "99996      716       204       5 1997-11-17 19:39:03\n",
              "99997      276      1090       1 1997-09-20 22:49:55\n",
              "99998       13       225       2 1997-12-17 22:52:36\n",
              "99999       12       203       3 1997-11-19 17:13:03\n",
              "\n",
              "[100000 rows x 4 columns]"
            ]
          },
          "execution_count": 60,
          "metadata": {},
          "output_type": "execute_result"
        }
      ],
      "source": [
        "Score.get_from_df(df,anios=[1970,1999])\n"
      ]
    },
    {
      "cell_type": "code",
      "execution_count": null,
      "metadata": {},
      "outputs": [],
      "source": [
        "#Altero algun dato del filtro 3 por ejemplo el año y despues trato de borrarla\n",
        "print(f'Rows del df original: {df_peliculas.shape[0]}')\n",
        "ListaPelisFiltradas3[0].anio=2000\n",
        "df_peliculas=ListaPelisFiltradas3[0].remove_from_df(df_peliculas)\n",
        "print(f'Rows del df luego del intento de borrado: {df_peliculas.shape[0]}')\n",
        "\n",
        "#Lo mismo ocurre si por ejemplo le agregamos un genero \n",
        "ListaPelisFiltradas3= Pelicula.get_from_df(df_peliculas, id=135)\n",
        "ListaPelisFiltradas3[0].generos.append('Romance')\n",
        "df_peliculas=ListaPelisFiltradas3[0].remove_from_df(df_peliculas)\n",
        "print(f'Rows del df luego del intento de borrado: {df_peliculas.shape[0]}')"
      ]
    },
    {
      "cell_type": "code",
      "execution_count": null,
      "metadata": {},
      "outputs": [],
      "source": [
        "### GET STATS\n",
        "print(df_peliculasAgregado.tail())"
      ]
    },
    {
      "cell_type": "code",
      "execution_count": null,
      "metadata": {},
      "outputs": [],
      "source": [
        "Pelicula.get_stats(df_peliculas, generos=['Comedy'])\n"
      ]
    },
    {
      "cell_type": "code",
      "execution_count": null,
      "metadata": {},
      "outputs": [],
      "source": [
        "Pelicula.get_stats(df_peliculas, anios=[1945,2000])"
      ]
    },
    {
      "cell_type": "code",
      "execution_count": null,
      "metadata": {},
      "outputs": [],
      "source": [
        "df_peliculas[df_peliculas['Name'].str.contains('2000')]"
      ]
    },
    {
      "cell_type": "code",
      "execution_count": null,
      "metadata": {},
      "outputs": [],
      "source": [
        "\n",
        "ListaPelisFiltradas2= Pelicula.filtrar_df(df_peliculas, generos = ['Comedy','Musical'], anios=[1900,2000])\n",
        "\n",
        "ListaPelisFiltradas2"
      ]
    },
    {
      "cell_type": "code",
      "execution_count": null,
      "metadata": {},
      "outputs": [],
      "source": [
        "df_peliculas"
      ]
    },
    {
      "cell_type": "code",
      "execution_count": null,
      "metadata": {},
      "outputs": [],
      "source": [
        "\n",
        "#Pelicula.get_stats(df_peliculas, anios=[1960 , 1980])\n",
        "\n"
      ]
    },
    {
      "cell_type": "markdown",
      "metadata": {},
      "source": []
    },
    {
      "cell_type": "code",
      "execution_count": null,
      "metadata": {},
      "outputs": [],
      "source": [
        "import matplotlib as plt\n",
        "\n",
        "df_grafico=Pelicula.filtrar_df(df_peliculas, anios=[1960 , 1980])\n",
        "# Extraer el año de la columna 'Release Date'\n",
        "df_grafico=Pelicula.filtrar_df(df_peliculas, anios=[1960 , 1980], generos=['Comedy','Fantasy','Crime'])\n",
        "df_grafico['year'] = df_grafico['DateNorm'].dt.year\n",
        "df_grafico.drop('DateNorm', axis='columns', inplace=True)\n",
        "\n",
        "# Filtrar solo las columnas de géneros y el año\n",
        "genre_columns = df_grafico.columns[5:]  # Suponiendo que las primeras columnas no son géneros\n",
        "df_genres = df_grafico[ list(genre_columns)]\n",
        "\n",
        "\n"
      ]
    },
    {
      "cell_type": "code",
      "execution_count": null,
      "metadata": {},
      "outputs": [],
      "source": [
        "# Sumar la cantidad de películas por género en cada año\n",
        "genre_by_year = df_genres.groupby('year').sum()\n",
        "\n",
        "# Rellenar NaN con 0 (opcional, si hay algún año sin películas)\n",
        "genre_by_year = genre_by_year.fillna(0)"
      ]
    },
    {
      "cell_type": "code",
      "execution_count": null,
      "metadata": {},
      "outputs": [],
      "source": [
        "df_genres.head()"
      ]
    },
    {
      "cell_type": "code",
      "execution_count": null,
      "metadata": {},
      "outputs": [],
      "source": [
        "genre_by_year.head()"
      ]
    },
    {
      "cell_type": "code",
      "execution_count": null,
      "metadata": {},
      "outputs": [],
      "source": [
        "#genre_by_year = genre_by_year.set_index('year')\n",
        "\n",
        "# Crear el gráfico de barras apiladas\n",
        "genre_by_year.plot(kind='bar', stacked=True, figsize=(10, 7))\n",
        "\n",
        "# Configurar las etiquetas y el título\n",
        "plt.xlabel('Year')\n",
        "plt.ylabel('Number of Movies')\n",
        "plt.title('Number of Movies per Genre by Year')\n",
        "plt.legend(title='Genre', bbox_to_anchor=(1.05, 1), loc='upper left')\n",
        "plt.tight_layout()\n",
        "\n",
        "# Mostrar el gráfico\n",
        "plt.show()"
      ]
    },
    {
      "cell_type": "code",
      "execution_count": null,
      "metadata": {},
      "outputs": [],
      "source": []
    }
  ],
  "metadata": {
    "colab": {
      "authorship_tag": "ABX9TyNDSdi+QGT76xjx89C3I6sE",
      "collapsed_sections": [],
      "include_colab_link": true,
      "name": "Clase 4.ipynb",
      "provenance": []
    },
    "kernelspec": {
      "display_name": "Python 3",
      "name": "python3"
    },
    "language_info": {
      "codemirror_mode": {
        "name": "ipython",
        "version": 3
      },
      "file_extension": ".py",
      "mimetype": "text/x-python",
      "name": "python",
      "nbconvert_exporter": "python",
      "pygments_lexer": "ipython3",
      "version": "3.6.7"
    }
  },
  "nbformat": 4,
  "nbformat_minor": 0
}
