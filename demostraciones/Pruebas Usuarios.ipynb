{
  "cells": [
    {
      "cell_type": "markdown",
      "metadata": {
        "colab_type": "text",
        "id": "view-in-github"
      },
      "source": [
        "<a href=\"https://colab.research.google.com/github/ITBA-Python/Certificacion-Profesional-Python/blob/main/Clase_4.ipynb\" target=\"_parent\"><img src=\"https://colab.research.google.com/assets/colab-badge.svg\" alt=\"Open In Colab\"/></a>"
      ]
    },
    {
      "cell_type": "code",
      "execution_count": 33,
      "metadata": {
        "id": "Qmlt3JYZZ1Qb"
      },
      "outputs": [
        {
          "name": "stdout",
          "output_type": "stream",
          "text": [
            "The autoreload extension is already loaded. To reload it, use:\n",
            "  %reload_ext autoreload\n"
          ]
        },
        {
          "name": "stderr",
          "output_type": "stream",
          "text": [
            "[autoreload of clases.Usuario failed: Traceback (most recent call last):\n",
            "  File \"C:\\Users\\LS59282\\AppData\\Roaming\\Python\\Python36\\site-packages\\IPython\\extensions\\autoreload.py\", line 245, in check\n",
            "    superreload(m, reload, self.old_objects)\n",
            "  File \"C:\\Users\\LS59282\\AppData\\Roaming\\Python\\Python36\\site-packages\\IPython\\extensions\\autoreload.py\", line 394, in superreload\n",
            "    module = reload(module)\n",
            "  File \"c:\\Users\\LS59282\\AppData\\Local\\Programs\\Python\\Python36\\lib\\imp.py\", line 315, in reload\n",
            "    return importlib.reload(module)\n",
            "  File \"c:\\Users\\LS59282\\AppData\\Local\\Programs\\Python\\Python36\\lib\\importlib\\__init__.py\", line 166, in reload\n",
            "    _bootstrap._exec(spec, module)\n",
            "  File \"<frozen importlib._bootstrap>\", line 618, in _exec\n",
            "  File \"<frozen importlib._bootstrap_external>\", line 674, in exec_module\n",
            "  File \"<frozen importlib._bootstrap_external>\", line 781, in get_code\n",
            "  File \"<frozen importlib._bootstrap_external>\", line 741, in source_to_code\n",
            "  File \"<frozen importlib._bootstrap>\", line 219, in _call_with_frames_removed\n",
            "  File \"..\\clases\\Usuario.py\", line 109\n",
            "    else\n",
            "       ^\n",
            "SyntaxError: invalid syntax\n",
            "]\n"
          ]
        }
      ],
      "source": [
        "%load_ext autoreload\n",
        "%autoreload 2\n",
        "import sys\n",
        "sys.path.append('../') \n",
        "import Helper as faux\n",
        "import pandas as pd\n",
        "from clases.Usuario import Usuario\n",
        "from clases.Persona import Persona\n",
        "\n",
        "\n",
        "#df_personas, df_trabajadores, df_usuarios, df_peliculas, df_scores=Faux.load_all()"
      ]
    },
    {
      "cell_type": "code",
      "execution_count": 3,
      "metadata": {},
      "outputs": [
        {
          "data": {
            "text/html": [
              "<div>\n",
              "<style scoped>\n",
              "    .dataframe tbody tr th:only-of-type {\n",
              "        vertical-align: middle;\n",
              "    }\n",
              "\n",
              "    .dataframe tbody tr th {\n",
              "        vertical-align: top;\n",
              "    }\n",
              "\n",
              "    .dataframe thead th {\n",
              "        text-align: right;\n",
              "    }\n",
              "</style>\n",
              "<table border=\"1\" class=\"dataframe\">\n",
              "  <thead>\n",
              "    <tr style=\"text-align: right;\">\n",
              "      <th></th>\n",
              "      <th>ocupacion</th>\n",
              "      <th>fecha_alta</th>\n",
              "    </tr>\n",
              "    <tr>\n",
              "      <th>id</th>\n",
              "      <th></th>\n",
              "      <th></th>\n",
              "    </tr>\n",
              "  </thead>\n",
              "  <tbody>\n",
              "    <tr>\n",
              "      <th>1</th>\n",
              "      <td>technician</td>\n",
              "      <td>1997-09-22 21:57:58</td>\n",
              "    </tr>\n",
              "    <tr>\n",
              "      <th>2</th>\n",
              "      <td>other</td>\n",
              "      <td>1998-02-27 03:26:00</td>\n",
              "    </tr>\n",
              "    <tr>\n",
              "      <th>3</th>\n",
              "      <td>writer</td>\n",
              "      <td>1998-03-07 02:15:39</td>\n",
              "    </tr>\n",
              "    <tr>\n",
              "      <th>4</th>\n",
              "      <td>technician</td>\n",
              "      <td>1998-04-08 02:09:34</td>\n",
              "    </tr>\n",
              "    <tr>\n",
              "      <th>5</th>\n",
              "      <td>other</td>\n",
              "      <td>1997-09-30 15:57:44</td>\n",
              "    </tr>\n",
              "    <tr>\n",
              "      <th>...</th>\n",
              "      <td>...</td>\n",
              "      <td>...</td>\n",
              "    </tr>\n",
              "    <tr>\n",
              "      <th>939</th>\n",
              "      <td>student</td>\n",
              "      <td>1997-11-23 04:50:36</td>\n",
              "    </tr>\n",
              "    <tr>\n",
              "      <th>940</th>\n",
              "      <td>administrator</td>\n",
              "      <td>1998-01-14 18:01:38</td>\n",
              "    </tr>\n",
              "    <tr>\n",
              "      <th>941</th>\n",
              "      <td>student</td>\n",
              "      <td>1997-09-23 21:01:35</td>\n",
              "    </tr>\n",
              "    <tr>\n",
              "      <th>942</th>\n",
              "      <td>librarian</td>\n",
              "      <td>1998-03-30 18:25:55</td>\n",
              "    </tr>\n",
              "    <tr>\n",
              "      <th>943</th>\n",
              "      <td>student</td>\n",
              "      <td>1997-09-28 01:25:39</td>\n",
              "    </tr>\n",
              "  </tbody>\n",
              "</table>\n",
              "<p>943 rows × 2 columns</p>\n",
              "</div>"
            ],
            "text/plain": [
              "         ocupacion          fecha_alta\n",
              "id                                    \n",
              "1       technician 1997-09-22 21:57:58\n",
              "2            other 1998-02-27 03:26:00\n",
              "3           writer 1998-03-07 02:15:39\n",
              "4       technician 1998-04-08 02:09:34\n",
              "5            other 1997-09-30 15:57:44\n",
              "..             ...                 ...\n",
              "939        student 1997-11-23 04:50:36\n",
              "940  administrator 1998-01-14 18:01:38\n",
              "941        student 1997-09-23 21:01:35\n",
              "942      librarian 1998-03-30 18:25:55\n",
              "943        student 1997-09-28 01:25:39\n",
              "\n",
              "[943 rows x 2 columns]"
            ]
          },
          "execution_count": 3,
          "metadata": {},
          "output_type": "execute_result"
        }
      ],
      "source": [
        "# Acciones con la clase Peliculas\n",
        "\n",
        "# Cargo el df método create_df_from_csv() directamente desde la clase\n",
        "df_usuarios = Usuario.create_df_from_csv(\"../data/usuarios.csv\")\n",
        "df_usuarios\n"
      ]
    },
    {
      "cell_type": "code",
      "execution_count": 4,
      "metadata": {},
      "outputs": [
        {
          "name": "stdout",
          "output_type": "stream",
          "text": [
            "Agrego Usuario Sin ID\n",
            "Rows del df original: 943\n",
            "Rows del df Agregado: 943\n",
            "\n"
          ]
        }
      ],
      "source": [
        "#Doy de Alta satisfactoriamente con el metodo write_df\n",
        "NuevoUsuarioSinID = Usuario(cod_postal='2222',ocupacion=\"dev\",fecha_alta='1998-02-27 03:26:00',id=None)\n",
        "print(f'Agrego Usuario Sin ID')\n",
        "df_UsuarioAgregado = NuevoUsuarioSinID.write_df(df_usuarios)\n",
        "print(f'Rows del df original: {df_usuarios.shape[0]}\\nRows del df Agregado: {df_UsuarioAgregado.shape[0]}\\n')\n"
      ]
    },
    {
      "cell_type": "code",
      "execution_count": 5,
      "metadata": {},
      "outputs": [
        {
          "name": "stdout",
          "output_type": "stream",
          "text": [
            "Fallo Agregando Usuario con ID Existente\n",
            "Error: No se pudo agregar, id ya existente\n",
            "Rows del df original: 943\n",
            "Rows del df Agregado2: 943\n"
          ]
        }
      ],
      "source": [
        "#Doy de Alta insatisfactoriamente con el metodo write_df ya que el ID existe\n",
        "\n",
        "NuevaUsuarioConIDExistente = Usuario(fullname='Repeto Juan',fecha_nac=2000,ocupacion=\"dev\",fecha_alta='1998-02-27 03:26:00',id=35)\n",
        "print(f'Fallo Agregando Usuario con ID Existente')\n",
        "df_personasAgregado2 = NuevaUsuarioConIDExistente.write_df(df_usuarios)\n",
        "print(f'Rows del df original: {df_usuarios.shape[0]}\\nRows del df Agregado2: {df_personasAgregado2.shape[0]}')\n",
        "\n"
      ]
    },
    {
      "cell_type": "code",
      "execution_count": 6,
      "metadata": {},
      "outputs": [
        {
          "name": "stdout",
          "output_type": "stream",
          "text": [
            "Filtro1: cantidad 7 \n",
            " [\n",
            " \n",
            " [20] None (None) --- CP:None , ocupacion=homemaker, fecha_alta=1997-11-16 08:06:24, \n",
            " \n",
            " [35] None (None) --- CP:None , ocupacion=homemaker, fecha_alta=1997-09-28 15:02:21, \n",
            " \n",
            " [356] None (None) --- CP:None , ocupacion=homemaker, fecha_alta=1998-04-01 04:40:19, \n",
            " \n",
            " [362] None (None) --- CP:None , ocupacion=homemaker, fecha_alta=1998-01-17 06:41:00, \n",
            " \n",
            " [708] None (None) --- CP:None , ocupacion=homemaker, fecha_alta=1997-10-20 05:25:35, \n",
            " \n",
            " [722] None (None) --- CP:None , ocupacion=homemaker, fecha_alta=1998-03-30 17:45:45, \n",
            " \n",
            " [898] None (None) --- CP:None , ocupacion=homemaker, fecha_alta=1998-02-24 04:26:15]\n",
            "\n",
            "Filtro2: cantidad 1\n",
            "[\n",
            " \n",
            " [33] None (None) --- CP:None , ocupacion=student, fecha_alta=1998-04-07 15:34:50]\n",
            "\n"
          ]
        }
      ],
      "source": [
        "#Los criterios del filtro son todos AND salvo en generos que trae todos los mencionados, no hace falta que esten todos en la misma pelicula\n",
        "#Vamos a Filtrar segun algunos criterios la df\n",
        "ListaUsuariosFiltradas1= Usuario.get_from_df(df_usuarios, ocupacion='homemaker') #El filtro de nombre es un contiene para ser mas abarcativo\n",
        "ListaUsuariosFiltradas2= Usuario.get_from_df(df_usuarios, id=33) #El filtro de nombre es un contiene para ser mas abarcativo\n",
        "\n",
        "\n",
        "#Vamos a ver los filtros\n",
        "print(f'Filtro1: cantidad {len(ListaUsuariosFiltradas1)} \\n {ListaUsuariosFiltradas1}\\n') # Se printean de acuerdo al metodo.__repr__ de la clase\n",
        "print(f'Filtro2: cantidad {len(ListaUsuariosFiltradas2)}\\n{ListaUsuariosFiltradas2}\\n')\n",
        "\n"
      ]
    },
    {
      "cell_type": "code",
      "execution_count": 7,
      "metadata": {},
      "outputs": [
        {
          "name": "stdout",
          "output_type": "stream",
          "text": [
            "Decidimos borrar de df_personas los resultados de ListaFiltrada1\n",
            "Rows del df original: 943\n",
            "Rows del df luego del borrado: 936\n"
          ]
        }
      ],
      "source": [
        "print('Decidimos borrar de df_personas los resultados de ListaFiltrada1')\n",
        "print(f'Rows del df original: {df_usuarios.shape[0]}')\n",
        "df_usuariosBorradas=df_usuarios.copy()\n",
        "for x in ListaUsuariosFiltradas1:\n",
        "    df_usuariosBorradas=x.remove_from_df(df_usuariosBorradas)\n",
        "print(f'Rows del df luego del borrado: {df_usuariosBorradas.shape[0]}')"
      ]
    },
    {
      "cell_type": "code",
      "execution_count": 8,
      "metadata": {},
      "outputs": [
        {
          "name": "stdout",
          "output_type": "stream",
          "text": [
            "Rows del df original: 943\n",
            "No existe en el df recibido una persona exactamente igual a la que invoca esta acción\n",
            "Rows del df luego del intento de borrado: 943\n"
          ]
        }
      ],
      "source": [
        "#Altero algun dato del filtro 3 por ejemplo el año y despues trato de borrarla\n",
        "print(f'Rows del df original: {df_usuarios.shape[0]}')\n",
        "ListaUsuariosFiltradas2[0].ocupacion='cantante'\n",
        "df_usuariosBorradas2=ListaUsuariosFiltradas2[0].remove_from_df(df_usuarios)\n",
        "print(f'Rows del df luego del intento de borrado: {df_usuariosBorradas2.shape[0]}')\n",
        "\n"
      ]
    },
    {
      "cell_type": "code",
      "execution_count": null,
      "metadata": {},
      "outputs": [
        {
          "name": "stdout",
          "output_type": "stream",
          "text": [
            "El Total de Usuarios es:  798\n"
          ]
        },
        {
          "data": {
            "image/png": "[encoded data removed]",
            "text/plain": [
              "<Figure size 864x576 with 2 Axes>"
            ]
          },
          "metadata": {
            "needs_background": "light"
          },
          "output_type": "display_data"
        }
      ],
      "source": [
        "df_personas = Persona.create_df_from_csv(\"../data/personas.csv\")\n",
        "Ocupaciones=['writer','administrator','scientist','librarian','educator','programmer','other','technician']\n",
        "Usuario.get_stats(df_usuarios,df_personas, ocupacionesList=Ocupaciones, aniosDeInteres=[1950,1990])\n"
      ]
    },
    {
      "cell_type": "code",
      "execution_count": 35,
      "metadata": {},
      "outputs": [
        {
          "name": "stdout",
          "output_type": "stream",
          "text": [
            "El Total de Usuarios es:  592\n"
          ]
        },
        {
          "data": {
            "image/png": "[encoded data removed]",
            "text/plain": [
              "<Figure size 864x576 with 2 Axes>"
            ]
          },
          "metadata": {
            "needs_background": "light"
          },
          "output_type": "display_data"
        }
      ],
      "source": [
        "Usuario.get_stats(df_usuarios,df_personas, aniosDeInteres=[1960,1980])"
      ]
    },
    {
      "cell_type": "code",
      "execution_count": null,
      "metadata": {},
      "outputs": [],
      "source": []
    }
  ],
  "metadata": {
    "colab": {
      "authorship_tag": "ABX9TyNDSdi+QGT76xjx89C3I6sE",
      "collapsed_sections": [],
      "include_colab_link": true,
      "name": "Clase 4.ipynb",
      "provenance": []
    },
    "kernelspec": {
      "display_name": "Python 3",
      "name": "python3"
    },
    "language_info": {
      "codemirror_mode": {
        "name": "ipython",
        "version": 3
      },
      "file_extension": ".py",
      "mimetype": "text/x-python",
      "name": "python",
      "nbconvert_exporter": "python",
      "pygments_lexer": "ipython3",
      "version": "3.6.7"
    }
  },
  "nbformat": 4,
  "nbformat_minor": 0
}
