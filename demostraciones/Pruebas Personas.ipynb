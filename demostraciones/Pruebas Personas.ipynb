{
  "cells": [
    {
      "cell_type": "markdown",
      "metadata": {
        "colab_type": "text",
        "id": "view-in-github"
      },
      "source": [
        "<a href=\"https://colab.research.google.com/github/ITBA-Python/Certificacion-Profesional-Python/blob/main/Clase_4.ipynb\" target=\"_parent\"><img src=\"https://colab.research.google.com/assets/colab-badge.svg\" alt=\"Open In Colab\"/></a>"
      ]
    },
    {
      "cell_type": "code",
      "execution_count": 72,
      "metadata": {
        "id": "Qmlt3JYZZ1Qb"
      },
      "outputs": [
        {
          "name": "stdout",
          "output_type": "stream",
          "text": [
            "The autoreload extension is already loaded. To reload it, use:\n",
            "  %reload_ext autoreload\n"
          ]
        }
      ],
      "source": [
        "%load_ext autoreload\n",
        "%autoreload 2\n",
        "import sys\n",
        "sys.path.append('../') \n",
        "import Helper as faux\n",
        "import pandas as pd\n",
        "from clases.Persona import Persona\n",
        "\n",
        "\n",
        "#df_personas, df_trabajadores, df_usuarios, df_peliculas, df_scores=Faux.load_all()"
      ]
    },
    {
      "cell_type": "code",
      "execution_count": 94,
      "metadata": {},
      "outputs": [
        {
          "data": {
            "text/html": [
              "<div>\n",
              "<style scoped>\n",
              "    .dataframe tbody tr th:only-of-type {\n",
              "        vertical-align: middle;\n",
              "    }\n",
              "\n",
              "    .dataframe tbody tr th {\n",
              "        vertical-align: top;\n",
              "    }\n",
              "\n",
              "    .dataframe thead th {\n",
              "        text-align: right;\n",
              "    }\n",
              "</style>\n",
              "<table border=\"1\" class=\"dataframe\">\n",
              "  <thead>\n",
              "    <tr style=\"text-align: right;\">\n",
              "      <th></th>\n",
              "      <th>Full_Name</th>\n",
              "      <th>year_of_birth</th>\n",
              "      <th>Gender</th>\n",
              "      <th>Zip_Code</th>\n",
              "    </tr>\n",
              "    <tr>\n",
              "      <th>id</th>\n",
              "      <th></th>\n",
              "      <th></th>\n",
              "      <th></th>\n",
              "      <th></th>\n",
              "    </tr>\n",
              "  </thead>\n",
              "  <tbody>\n",
              "    <tr>\n",
              "      <th>1</th>\n",
              "      <td>Robert Stanley</td>\n",
              "      <td>1974</td>\n",
              "      <td>M</td>\n",
              "      <td>85711</td>\n",
              "    </tr>\n",
              "    <tr>\n",
              "      <th>2</th>\n",
              "      <td>Heather Bossey</td>\n",
              "      <td>1945</td>\n",
              "      <td>F</td>\n",
              "      <td>94043</td>\n",
              "    </tr>\n",
              "    <tr>\n",
              "      <th>3</th>\n",
              "      <td>Don Davis</td>\n",
              "      <td>1975</td>\n",
              "      <td>M</td>\n",
              "      <td>32067</td>\n",
              "    </tr>\n",
              "    <tr>\n",
              "      <th>4</th>\n",
              "      <td>Daniel Mccauley</td>\n",
              "      <td>1974</td>\n",
              "      <td>M</td>\n",
              "      <td>43537</td>\n",
              "    </tr>\n",
              "    <tr>\n",
              "      <th>5</th>\n",
              "      <td>Janice Mccullough</td>\n",
              "      <td>1965</td>\n",
              "      <td>F</td>\n",
              "      <td>15213</td>\n",
              "    </tr>\n",
              "    <tr>\n",
              "      <th>...</th>\n",
              "      <td>...</td>\n",
              "      <td>...</td>\n",
              "      <td>...</td>\n",
              "      <td>...</td>\n",
              "    </tr>\n",
              "    <tr>\n",
              "      <th>939</th>\n",
              "      <td>Kim Privitera</td>\n",
              "      <td>1972</td>\n",
              "      <td>F</td>\n",
              "      <td>33319</td>\n",
              "    </tr>\n",
              "    <tr>\n",
              "      <th>940</th>\n",
              "      <td>Louis Quarry</td>\n",
              "      <td>1966</td>\n",
              "      <td>M</td>\n",
              "      <td>02215</td>\n",
              "    </tr>\n",
              "    <tr>\n",
              "      <th>941</th>\n",
              "      <td>Quinton Reamer</td>\n",
              "      <td>1978</td>\n",
              "      <td>M</td>\n",
              "      <td>97229</td>\n",
              "    </tr>\n",
              "    <tr>\n",
              "      <th>942</th>\n",
              "      <td>Ruby Bridges</td>\n",
              "      <td>1950</td>\n",
              "      <td>F</td>\n",
              "      <td>78209</td>\n",
              "    </tr>\n",
              "    <tr>\n",
              "      <th>943</th>\n",
              "      <td>Dannie Cintron</td>\n",
              "      <td>1976</td>\n",
              "      <td>M</td>\n",
              "      <td>77841</td>\n",
              "    </tr>\n",
              "  </tbody>\n",
              "</table>\n",
              "<p>943 rows × 4 columns</p>\n",
              "</div>"
            ],
            "text/plain": [
              "             Full_Name  year_of_birth Gender Zip_Code\n",
              "id                                                   \n",
              "1       Robert Stanley           1974      M    85711\n",
              "2       Heather Bossey           1945      F    94043\n",
              "3            Don Davis           1975      M    32067\n",
              "4      Daniel Mccauley           1974      M    43537\n",
              "5    Janice Mccullough           1965      F    15213\n",
              "..                 ...            ...    ...      ...\n",
              "939      Kim Privitera           1972      F    33319\n",
              "940       Louis Quarry           1966      M    02215\n",
              "941     Quinton Reamer           1978      M    97229\n",
              "942       Ruby Bridges           1950      F    78209\n",
              "943     Dannie Cintron           1976      M    77841\n",
              "\n",
              "[943 rows x 4 columns]"
            ]
          },
          "execution_count": 94,
          "metadata": {},
          "output_type": "execute_result"
        }
      ],
      "source": [
        "# Acciones con la clase Peliculas\n",
        "\n",
        "# Cargo el df método create_df_from_csv() directamente desde la clase\n",
        "df_personas = Persona.create_df_from_csv(\"../data/personas.csv\")\n",
        "df_personas\n"
      ]
    },
    {
      "cell_type": "code",
      "execution_count": 77,
      "metadata": {},
      "outputs": [
        {
          "name": "stdout",
          "output_type": "stream",
          "text": [
            "Agrego Persona Sin ID\n",
            "Rows del df original: 943\n",
            "Rows del df Agregado: 944\n",
            "\n"
          ]
        }
      ],
      "source": [
        "#Doy de Alta satisfactoriamente con el metodo write_df\n",
        "NuevaPersonasSinID = Persona(\"Carlos Sanchez\",yearOfBirth=2000,gender=\"M\",zipcode='1333',id=None)\n",
        "print(f'Agrego Persona Sin ID')\n",
        "df_personaAgregado = NuevaPersonasSinID.write_df(df_personas)\n",
        "print(f'Rows del df original: {df_personas.shape[0]}\\nRows del df Agregado: {df_personaAgregado.shape[0]}\\n')"
      ]
    },
    {
      "cell_type": "code",
      "execution_count": 78,
      "metadata": {},
      "outputs": [
        {
          "name": "stdout",
          "output_type": "stream",
          "text": [
            "Fallo Agregando Persona con ID Existente\n",
            "Error: No se pudo agregar, id ya existente\n",
            "Rows del df original: 943\n",
            "Rows del df Agregado2: 943\n"
          ]
        }
      ],
      "source": [
        "#Doy de Alta insatisfactoriamente con el metodo write_df ya que el ID existe\n",
        "\n",
        "NuevaPersonaConIDExistente = Persona(\"Jairo Straccia\",yearOfBirth=2020,gender=\"F\",zipcode='13323',id=29)\n",
        "print(f'Fallo Agregando Persona con ID Existente')\n",
        "df_personasAgregado2 = NuevaPersonaConIDExistente.write_df(df_personas)\n",
        "print(f'Rows del df original: {df_personas.shape[0]}\\nRows del df Agregado2: {df_personasAgregado2.shape[0]}')\n",
        "\n"
      ]
    },
    {
      "cell_type": "code",
      "execution_count": 98,
      "metadata": {},
      "outputs": [
        {
          "name": "stdout",
          "output_type": "stream",
          "text": [
            "Filtro1: cantidad 7 \n",
            " [\n",
            " [34] Adelia Roth (1960) -Femenino- CP:42141 , \n",
            " [151] Johnnie Scott (1960) -Femenino- CP:48103 , \n",
            " [421] Gloria Porter (1960) -Femenino- CP:55105 , \n",
            " [494] Joan Martin (1960) -Femenino- CP:49428 , \n",
            " [839] Carolyn Barnett (1960) -Femenino- CP:90814 , \n",
            " [861] Betty Markis (1960) -Femenino- CP:14085 , \n",
            " [938] Erica Rome (1960) -Femenino- CP:55038 ]\n",
            "\n",
            "Filtro2: cantidad 18\n",
            "[\n",
            " [29] David Tapp (1957) -Masculino- CP:94043 , \n",
            " [163] David Hearn (1949) -Masculino- CP:97212 , \n",
            " [189] David Pfeiffer (1966) -Masculino- CP:95014 , \n",
            " [201] David Pearsall (1971) -Masculino- CP:E2A4H , \n",
            " [213] David Rice (1965) -Masculino- CP:55345 , \n",
            " [239] David Mohamed (1959) -Masculino- CP:95628 , \n",
            " [317] David Odougherty (1976) -Masculino- CP:13210 , \n",
            " [391] David Tignor (1975) -Masculino- CP:84604 , \n",
            " [398] David Gilman (1958) -Masculino- CP:60008 , \n",
            " [540] David Haro (1970) -Masculino- CP:91201 , \n",
            " [561] David Roddy (1975) -Masculino- CP:60005 , \n",
            " [600] David Burmeister (1964) -Masculino- CP:02320 , \n",
            " [686] David Brokaw (1966) -Masculino- CP:26506 , \n",
            " [697] David Villegas (1973) -Masculino- CP:77042 , \n",
            " [785] David Fraley (1966) -Masculino- CP:23322 , \n",
            " [855] David Cox (1945) -Masculino- CP:04988 , \n",
            " [880] David Kelso (1985) -Masculino- CP:83702 , \n",
            " [905] David Kahill (1971) -Masculino- CP:30350 ]\n",
            "\n",
            "Filtro3: cantidad 1\n",
            "[\n",
            " [317] David Odougherty (1976) -Masculino- CP:13210 ]\n"
          ]
        }
      ],
      "source": [
        "#Los criterios del filtro son todos AND salvo en generos que trae todos los mencionados, no hace falta que esten todos en la misma pelicula\n",
        "#Vamos a Filtrar segun algunos criterios la df\n",
        "ListaPersonasFiltradas1= Persona.get_from_df(df_personas, Gender='F' ,yearOfBirth = 1960) #El filtro de nombre es un contiene para ser mas abarcativo\n",
        "ListaPersonasFiltradas2= Persona.get_from_df(df_personas, Gender='M' ,yearOfBirth = [1945,2000], FullName='David') #El filtro de nombre es un contiene para ser mas abarcativo\n",
        "ListaPersonasFiltradas3= Persona.get_from_df(df_personas, ZipCode='13210') #El filtro de nombre es un contiene para ser mas abarcativo\n",
        "\n",
        "#Vamos a ver los filtros\n",
        "print(f'Filtro1: cantidad {len(ListaPersonasFiltradas1)} \\n {ListaPersonasFiltradas1}\\n') # Se printean de acuerdo al metodo.__repr__ de la clase\n",
        "print(f'Filtro2: cantidad {len(ListaPersonasFiltradas2)}\\n{ListaPersonasFiltradas2}\\n')\n",
        "print(f'Filtro3: cantidad {len(ListaPersonasFiltradas3)}\\n{ListaPersonasFiltradas3}')\n"
      ]
    },
    {
      "cell_type": "code",
      "execution_count": 82,
      "metadata": {},
      "outputs": [
        {
          "name": "stdout",
          "output_type": "stream",
          "text": [
            "Decidimos borrar de df_personas los resultados de ListaFiltrada2\n",
            "Rows del df original: 943\n",
            "Rows del df luego del borrado: 925\n"
          ]
        }
      ],
      "source": [
        "print('Decidimos borrar de df_personas los resultados de ListaFiltrada2')\n",
        "print(f'Rows del df original: {df_personas.shape[0]}')\n",
        "df_personasBorradas=df_personas.copy()\n",
        "for x in ListaPersonasFiltradas2:\n",
        "    df_personasBorradas=x.remove_from_df(df_personasBorradas)\n",
        "print(f'Rows del df luego del borrado: {df_personasBorradas.shape[0]}')"
      ]
    },
    {
      "cell_type": "code",
      "execution_count": 105,
      "metadata": {},
      "outputs": [
        {
          "name": "stdout",
          "output_type": "stream",
          "text": [
            "Rows del df original: 943\n",
            "No existe en el df recibido una persona exactamente igual a la que invoca esta acción\n",
            "Rows del df luego del intento de borrado: 943\n"
          ]
        }
      ],
      "source": [
        "#Altero algun dato del filtro 3 por ejemplo el año y despues trato de borrarla\n",
        "print(f'Rows del df original: {df_personas.shape[0]}')\n",
        "ListaPersonasFiltradas3[0].yearOfBirth=2000\n",
        "df_personasBorradas2=ListaPersonasFiltradas3[0].remove_from_df(df_personas)\n",
        "print(f'Rows del df luego del intento de borrado: {df_personasBorradas2.shape[0]}')\n",
        "\n"
      ]
    },
    {
      "cell_type": "code",
      "execution_count": 206,
      "metadata": {},
      "outputs": [
        {
          "name": "stdout",
          "output_type": "stream",
          "text": [
            "El Total de Personas es:  799\n",
            "Femeninas: 230 (28.8%)\n",
            "Masculinos: 569 (71.2%)\n"
          ]
        },
        {
          "data": {
            "image/png": "[encoded data removed]",
            "text/plain": [
              "<Figure size 720x432 with 1 Axes>"
            ]
          },
          "metadata": {
            "needs_background": "light"
          },
          "output_type": "display_data"
        }
      ],
      "source": [
        "Persona.get_stats(df_personas, yearOfBirth=[1950,2000])"
      ]
    }
  ],
  "metadata": {
    "colab": {
      "authorship_tag": "ABX9TyNDSdi+QGT76xjx89C3I6sE",
      "collapsed_sections": [],
      "include_colab_link": true,
      "name": "Clase 4.ipynb",
      "provenance": []
    },
    "kernelspec": {
      "display_name": "Python 3",
      "name": "python3"
    },
    "language_info": {
      "codemirror_mode": {
        "name": "ipython",
        "version": 3
      },
      "file_extension": ".py",
      "mimetype": "text/x-python",
      "name": "python",
      "nbconvert_exporter": "python",
      "pygments_lexer": "ipython3",
      "version": "3.6.7"
    }
  },
  "nbformat": 4,
  "nbformat_minor": 0
}
